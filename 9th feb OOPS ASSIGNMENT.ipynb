{
 "cells": [
  {
   "cell_type": "markdown",
   "id": "e4eab5a4",
   "metadata": {},
   "source": [
    "# ASSIGNMENT"
   ]
  },
  {
   "cell_type": "markdown",
   "id": "acaab527",
   "metadata": {},
   "source": [
    "Q1, Create a vehicle class with an init method having instance variables as name_of_vehicle, max_speed\n",
    "and average_of_vehicle."
   ]
  },
  {
   "cell_type": "code",
   "execution_count": 43,
   "id": "8ee2b4d9",
   "metadata": {},
   "outputs": [],
   "source": [
    "class vehicle:\n",
    "    def __init__(self,name,maxSpeed,averageOfVehicle,capacity):\n",
    "        self.name_of_vehicle=name\n",
    "        self.max_speed=maxSpeed\n",
    "        self.average_of_vehicle=averageOfVehicle\n",
    "  "
   ]
  },
  {
   "cell_type": "code",
   "execution_count": 26,
   "id": "0becb066",
   "metadata": {},
   "outputs": [],
   "source": [
    "obj_vehicle=vehicle(\"car\",200,10)"
   ]
  },
  {
   "cell_type": "code",
   "execution_count": 4,
   "id": "df47dcfd",
   "metadata": {},
   "outputs": [
    {
     "data": {
      "text/plain": [
       "200"
      ]
     },
     "execution_count": 4,
     "metadata": {},
     "output_type": "execute_result"
    }
   ],
   "source": [
    "obj_vehicle.max_speed"
   ]
  },
  {
   "cell_type": "markdown",
   "id": "d53e86e9",
   "metadata": {},
   "source": [
    "Q2. Create a child class car from the vehicle class created in Que 1, which will inherit the vehicle class.\n",
    "Create a method named seating_capacity which takes capacity as an argument and returns the name of\n",
    "the vehicle and its seating capacity."
   ]
  },
  {
   "cell_type": "code",
   "execution_count": 44,
   "id": "881ae1a9",
   "metadata": {},
   "outputs": [],
   "source": [
    "class car(vehicle):\n",
    "   \n",
    "    def __init__(self,name,capacity):\n",
    "        self.name_of_vehicle=name\n",
    "        self.capacity=capacity\n",
    "    def seating_capacity(self, capacity):\n",
    "        return self.capacity,self.name_of_vehicle"
   ]
  },
  {
   "cell_type": "code",
   "execution_count": 36,
   "id": "e32adb8d",
   "metadata": {},
   "outputs": [],
   "source": [
    "obj_car = car(\"car\",4)"
   ]
  },
  {
   "cell_type": "code",
   "execution_count": 45,
   "id": "d07e10e1",
   "metadata": {},
   "outputs": [
    {
     "data": {
      "text/plain": [
       "4"
      ]
     },
     "execution_count": 45,
     "metadata": {},
     "output_type": "execute_result"
    }
   ],
   "source": [
    "obj_car.seating_capacity"
   ]
  },
  {
   "cell_type": "markdown",
   "id": "e3f065da",
   "metadata": {},
   "source": [
    "Q3. What is multiple inheritance? Write a python code to demonstrate multiple inheritance.\n"
   ]
  },
  {
   "cell_type": "markdown",
   "id": "59933453",
   "metadata": {},
   "source": [
    "In multiple inheritance, one child class can inherit from multiple parent classes"
   ]
  },
  {
   "cell_type": "code",
   "execution_count": 46,
   "id": "711f67d1",
   "metadata": {},
   "outputs": [],
   "source": [
    "class parent1:\n",
    "    def property_of_parent1(self):\n",
    "        print(\"This is the property of parent 1\")"
   ]
  },
  {
   "cell_type": "code",
   "execution_count": 47,
   "id": "686daad8",
   "metadata": {},
   "outputs": [],
   "source": [
    "class parent2:\n",
    "    def property_of_parent2(self):\n",
    "        print(\"This  is the proprty of parent 2\")"
   ]
  },
  {
   "cell_type": "code",
   "execution_count": 48,
   "id": "586c2f64",
   "metadata": {},
   "outputs": [],
   "source": [
    "class child(parent1,parent2):\n",
    "    def property_of_child(self):\n",
    "        print(\"This the property of the child\")"
   ]
  },
  {
   "cell_type": "code",
   "execution_count": 49,
   "id": "5c49b278",
   "metadata": {},
   "outputs": [],
   "source": [
    "obj_child=child()"
   ]
  },
  {
   "cell_type": "code",
   "execution_count": 51,
   "id": "51a1e7f7",
   "metadata": {},
   "outputs": [
    {
     "name": "stdout",
     "output_type": "stream",
     "text": [
      "This the property of the child\n"
     ]
    }
   ],
   "source": [
    "obj_child.property_of_child()"
   ]
  },
  {
   "cell_type": "code",
   "execution_count": 53,
   "id": "8ac207d1",
   "metadata": {},
   "outputs": [
    {
     "name": "stdout",
     "output_type": "stream",
     "text": [
      "This is the property of parent 1\n"
     ]
    }
   ],
   "source": [
    "obj_child.property_of_parent1()"
   ]
  },
  {
   "cell_type": "code",
   "execution_count": 54,
   "id": "4fadbd6e",
   "metadata": {},
   "outputs": [
    {
     "name": "stdout",
     "output_type": "stream",
     "text": [
      "This  is the proprty of parent 2\n"
     ]
    }
   ],
   "source": [
    "obj_child.property_of_parent2()"
   ]
  },
  {
   "cell_type": "markdown",
   "id": "2efc5bf2",
   "metadata": {},
   "source": [
    "Q4. What are getter and setter in python? Create a class and create a getter and a setter method in this\n",
    "class.\n"
   ]
  },
  {
   "cell_type": "markdown",
   "id": "7d11465b",
   "metadata": {},
   "source": [
    "Getter: A method that allows you to access an attribute in a given class. Setter: A method that allows you to set or mutate the value of an attribute in a class."
   ]
  },
  {
   "cell_type": "code",
   "execution_count": 55,
   "id": "32d9f34b",
   "metadata": {},
   "outputs": [],
   "source": [
    "class car:\n",
    "    def __init__(self,year,make,model,speed):\n",
    "        self.__year=year\n",
    "        self.__make=make\n",
    "        self.__model=model\n",
    "        self.__speed=speed\n",
    "    def set_speed(self,speed):\n",
    "        self.__speed=0 if speed<0 else speed\n",
    "    def get_speed(self):\n",
    "        return self.__speed\n",
    "        "
   ]
  },
  {
   "cell_type": "markdown",
   "id": "90f33481",
   "metadata": {},
   "source": [
    "Q5.What is method overriding in python? Write a python code to demonstrate method overriding"
   ]
  },
  {
   "cell_type": "markdown",
   "id": "0267b2b4",
   "metadata": {},
   "source": [
    "Method Overriding in Python is an OOPs concept closely related to inheritance. When a child class method overrides(or, provides it's own implementation) the parent class method of the same name, parameters and return type, it is known as method overriding."
   ]
  },
  {
   "cell_type": "code",
   "execution_count": 56,
   "id": "6e232d17",
   "metadata": {},
   "outputs": [],
   "source": [
    "class human:\n",
    "    def move(self):\n",
    "        print(\"Human walks\")"
   ]
  },
  {
   "cell_type": "code",
   "execution_count": 57,
   "id": "20b9c2c2",
   "metadata": {},
   "outputs": [],
   "source": [
    "class baby(human):\n",
    "    def move(self):\n",
    "        print(\"Baby crawls\")"
   ]
  },
  {
   "cell_type": "code",
   "execution_count": 58,
   "id": "4264d868",
   "metadata": {},
   "outputs": [],
   "source": [
    "class teenger(human):\n",
    "    def move(self):\n",
    "        print(\"Teenger runs\")"
   ]
  },
  {
   "cell_type": "code",
   "execution_count": 59,
   "id": "f94fbbe9",
   "metadata": {},
   "outputs": [],
   "source": [
    "obj_human =human()"
   ]
  },
  {
   "cell_type": "code",
   "execution_count": 60,
   "id": "104c1680",
   "metadata": {},
   "outputs": [],
   "source": [
    "obj_baby = baby()"
   ]
  },
  {
   "cell_type": "code",
   "execution_count": 61,
   "id": "a84c311a",
   "metadata": {},
   "outputs": [
    {
     "name": "stdout",
     "output_type": "stream",
     "text": [
      "Human walks\n"
     ]
    }
   ],
   "source": [
    "obj_human.move()"
   ]
  },
  {
   "cell_type": "code",
   "execution_count": 62,
   "id": "b7f51030",
   "metadata": {},
   "outputs": [
    {
     "name": "stdout",
     "output_type": "stream",
     "text": [
      "Baby crawls\n"
     ]
    }
   ],
   "source": [
    "obj_baby.move()"
   ]
  },
  {
   "cell_type": "code",
   "execution_count": null,
   "id": "0737e923",
   "metadata": {},
   "outputs": [],
   "source": []
  }
 ],
 "metadata": {
  "kernelspec": {
   "display_name": "Python 3 (ipykernel)",
   "language": "python",
   "name": "python3"
  },
  "language_info": {
   "codemirror_mode": {
    "name": "ipython",
    "version": 3
   },
   "file_extension": ".py",
   "mimetype": "text/x-python",
   "name": "python",
   "nbconvert_exporter": "python",
   "pygments_lexer": "ipython3",
   "version": "3.9.13"
  }
 },
 "nbformat": 4,
 "nbformat_minor": 5
}
