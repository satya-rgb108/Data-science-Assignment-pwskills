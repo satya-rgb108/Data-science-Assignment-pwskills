{
 "cells": [
  {
   "cell_type": "raw",
   "id": "8a2690c1",
   "metadata": {},
   "source": [
    "Q1. Explain Class and Object with respect to Object-Oriented Programming. Give a suitable example."
   ]
  },
  {
   "cell_type": "markdown",
   "id": "b4438d0e",
   "metadata": {},
   "source": [
    "Class is a blueprint of a real world entity or object.\n"
   ]
  },
  {
   "cell_type": "code",
   "execution_count": 1,
   "id": "6324d0c7",
   "metadata": {},
   "outputs": [],
   "source": [
    "class pwskills:\n",
    "    def courses(self):\n",
    "        print(\"Data science\",\"java System desgin\",\"Fullstack web development\")"
   ]
  },
  {
   "cell_type": "markdown",
   "id": "5379d737",
   "metadata": {},
   "source": [
    "An object is called an instance of a class"
   ]
  },
  {
   "cell_type": "code",
   "execution_count": 2,
   "id": "84eb619f",
   "metadata": {},
   "outputs": [],
   "source": [
    "Satya =pwskills()"
   ]
  },
  {
   "cell_type": "code",
   "execution_count": 3,
   "id": "0c23b01d",
   "metadata": {},
   "outputs": [
    {
     "name": "stdout",
     "output_type": "stream",
     "text": [
      "Data science java System desgin Fullstack web development\n"
     ]
    }
   ],
   "source": [
    "Satya.courses()"
   ]
  },
  {
   "cell_type": "code",
   "execution_count": 5,
   "id": "4968ee8d",
   "metadata": {},
   "outputs": [],
   "source": [
    "class ClassName:\n",
    "    pass"
   ]
  },
  {
   "cell_type": "code",
   "execution_count": 6,
   "id": "f0eff1d3",
   "metadata": {},
   "outputs": [],
   "source": [
    "objectName = ClassName()"
   ]
  },
  {
   "cell_type": "raw",
   "id": "47a17eb5",
   "metadata": {},
   "source": []
  },
  {
   "cell_type": "raw",
   "id": "be906c8a",
   "metadata": {},
   "source": [
    "Q2. Name the four pillars of OOPs."
   ]
  },
  {
   "cell_type": "markdown",
   "id": "9c8d131d",
   "metadata": {},
   "source": [
    "Ans: Abstraction ,Encapsulation,Inheritance,Polymorphism are 4 pillars of OOPs.\n"
   ]
  },
  {
   "cell_type": "raw",
   "id": "bda85a89",
   "metadata": {},
   "source": [
    "Q3. Explain why the __init__() function is used. Give a suitable example."
   ]
  },
  {
   "cell_type": "markdown",
   "id": "be147d90",
   "metadata": {},
   "source": [
    "Ans: All classes have a function called __init__(), which is always executed when the class is being initiated.\n",
    "\n",
    "Use the __init__() function to assign values to object properties, or other operations that are necessary to do when the object is being created:"
   ]
  },
  {
   "cell_type": "code",
   "execution_count": 7,
   "id": "e8290d7f",
   "metadata": {},
   "outputs": [],
   "source": [
    "class pwskills2:\n",
    "    def __init__(self,phone_no,email_id,student_id):\n",
    "        self.phone_no=phone_no\n",
    "        self.email_id=email_id\n",
    "        self.student_id=student_id\n",
    "    def return_detail(self):\n",
    "        return self.phone_no,self.email_id,self.student_id\n",
    "    "
   ]
  },
  {
   "cell_type": "code",
   "execution_count": 8,
   "id": "45deb8f1",
   "metadata": {},
   "outputs": [],
   "source": [
    "Satya= pwskills2(9870756421,\"srp@gmail.com\",89766)"
   ]
  },
  {
   "cell_type": "code",
   "execution_count": 9,
   "id": "954e4973",
   "metadata": {},
   "outputs": [],
   "source": [
    "Rohit=pwskills2(6754364239,\"rohit@gmail.com\",87580)"
   ]
  },
  {
   "cell_type": "code",
   "execution_count": 10,
   "id": "5b531386",
   "metadata": {},
   "outputs": [
    {
     "data": {
      "text/plain": [
       "(9870756421, 'srp@gmail.com', 89766)"
      ]
     },
     "execution_count": 10,
     "metadata": {},
     "output_type": "execute_result"
    }
   ],
   "source": [
    "Satya.return_detail()"
   ]
  },
  {
   "cell_type": "code",
   "execution_count": 11,
   "id": "b5b01823",
   "metadata": {},
   "outputs": [
    {
     "data": {
      "text/plain": [
       "(6754364239, 'rohit@gmail.com', 87580)"
      ]
     },
     "execution_count": 11,
     "metadata": {},
     "output_type": "execute_result"
    }
   ],
   "source": [
    "Rohit.return_detail()"
   ]
  },
  {
   "cell_type": "raw",
   "id": "9cc2811d",
   "metadata": {},
   "source": [
    "Q4. Why self is used in OOPs?"
   ]
  },
  {
   "cell_type": "markdown",
   "id": "999d9f28",
   "metadata": {},
   "source": [
    "self represents the instance of the class. By using the “self”  we can access the attributes and methods of the class in python. It binds the attributes with the given arguments."
   ]
  },
  {
   "cell_type": "raw",
   "id": "040a179b",
   "metadata": {},
   "source": [
    "Q5. What is inheritance? Give an example for each type of inheritance."
   ]
  },
  {
   "cell_type": "markdown",
   "id": "dc535bd4",
   "metadata": {},
   "source": [
    "Ans:Inheritance is defined as the mechanism of inheriting the properties of the base class to the child class"
   ]
  },
  {
   "cell_type": "markdown",
   "id": "026e0221",
   "metadata": {},
   "source": [
    "Types of Inheritance depend upon the number of child and parent classes involved. There are four types of inheritance in Python:\n",
    "Single Inheritance: \n",
    "Single inheritance enables a derived class to inherit properties from a single parent class, thus enabling code reusability and the addition of new features to existing code."
   ]
  },
  {
   "cell_type": "code",
   "execution_count": 12,
   "id": "7ab8bdb4",
   "metadata": {},
   "outputs": [
    {
     "name": "stdout",
     "output_type": "stream",
     "text": [
      "This function is in parent class.\n",
      "This function is in child class.\n"
     ]
    }
   ],
   "source": [
    "# Base class\n",
    "class Parent:\n",
    "    def func1(self):\n",
    "        print(\"This function is in parent class.\")\n",
    " \n",
    "# Derived class\n",
    " \n",
    " \n",
    "class Child(Parent):\n",
    "    def func2(self):\n",
    "        print(\"This function is in child class.\")\n",
    " \n",
    " \n",
    "# Driver's code\n",
    "object = Child()\n",
    "object.func1()\n",
    "object.func2()"
   ]
  },
  {
   "cell_type": "raw",
   "id": "0e208695",
   "metadata": {},
   "source": [
    "Multiple Inheritance: \n",
    "When a class can be derived from more than one base class this type of inheritance is called multiple inheritances. In multiple inheritances, all the features of the base classes are inherited into the derived class. \n",
    "\n"
   ]
  },
  {
   "cell_type": "code",
   "execution_count": 14,
   "id": "1de1dff1",
   "metadata": {},
   "outputs": [
    {
     "name": "stdout",
     "output_type": "stream",
     "text": [
      "Father : RAM\n",
      "Mother : SITA\n"
     ]
    }
   ],
   "source": [
    " \n",
    "# Base class1\n",
    "class Mother:\n",
    "    mothername = \"\"\n",
    " \n",
    "    def mother(self):\n",
    "        print(self.mothername)\n",
    " \n",
    "# Base class2\n",
    " \n",
    " \n",
    "class Father:\n",
    "    fathername = \"\"\n",
    " \n",
    "    def father(self):\n",
    "        print(self.fathername)\n",
    " \n",
    "# Derived class\n",
    " \n",
    " \n",
    "class Son(Mother, Father):\n",
    "    def parents(self):\n",
    "        print(\"Father :\", self.fathername)\n",
    "        print(\"Mother :\", self.mothername)\n",
    " \n",
    " \n",
    "# Driver's code\n",
    "s1 = Son()\n",
    "s1.fathername = \"RAM\"\n",
    "s1.mothername = \"SITA\"\n",
    "s1.parents()"
   ]
  },
  {
   "cell_type": "raw",
   "id": "526fe528",
   "metadata": {},
   "source": [
    "Multilevel Inheritance :\n",
    "In multilevel inheritance, features of the base class and the derived class are further inherited into the new derived class. This is similar to a relationship representing a child and a grandfather. \n",
    "\n"
   ]
  },
  {
   "cell_type": "code",
   "execution_count": 17,
   "id": "bdc9a1b1",
   "metadata": {},
   "outputs": [
    {
     "name": "stdout",
     "output_type": "stream",
     "text": [
      "Employee Name: Satya\n",
      "Salary: 1000000\n",
      "Designation: Data scientist\n"
     ]
    }
   ],
   "source": [
    "class Employees(): \n",
    " \n",
    "   def Name(self): \n",
    "       print(\"Employee Name: Satya\")\n",
    " \n",
    "class salary(Employees):\n",
    "   def Salary(self):\n",
    "       print(\"Salary: 1000000\")\n",
    " \n",
    "class Designation(salary):\n",
    "   def desig(self):\n",
    "       print(\"Designation: Data scientist\")\n",
    " \n",
    "call = Designation()\n",
    "call.Name()\n",
    "call.Salary()\n",
    "call.desig()"
   ]
  },
  {
   "cell_type": "raw",
   "id": "9e8ab39f",
   "metadata": {},
   "source": [
    "Hierarchical Inheritance: \n",
    "When more than one derived class are created from a single base this type of inheritance is called hierarchical inheritance."
   ]
  },
  {
   "cell_type": "code",
   "execution_count": 18,
   "id": "f26d6b70",
   "metadata": {},
   "outputs": [
    {
     "name": "stdout",
     "output_type": "stream",
     "text": [
      "This function is in parent class.\n",
      "This function is in child 1.\n",
      "This function is in parent class.\n",
      "This function is in child 2.\n"
     ]
    }
   ],
   "source": [
    "# Base class\n",
    "class Parent:\n",
    "    def func1(self):\n",
    "        print(\"This function is in parent class.\")\n",
    " \n",
    "# Derived class1\n",
    " \n",
    " \n",
    "class Child1(Parent):\n",
    "    def func2(self):\n",
    "        print(\"This function is in child 1.\")\n",
    " \n",
    "# Derivied class2\n",
    " \n",
    " \n",
    "class Child2(Parent):\n",
    "    def func3(self):\n",
    "        print(\"This function is in child 2.\")\n",
    " \n",
    " \n",
    "# Driver's code\n",
    "object1 = Child1()\n",
    "object2 = Child2()\n",
    "object1.func1()\n",
    "object1.func2()\n",
    "object2.func1()\n",
    "object2.func3()"
   ]
  },
  {
   "cell_type": "raw",
   "id": "70ef08ab",
   "metadata": {},
   "source": [
    "Hybrid Inheritance: \n",
    "Inheritance consisting of multiple types of inheritance is called hybrid inheritance."
   ]
  },
  {
   "cell_type": "code",
   "execution_count": 19,
   "id": "b72a5d7a",
   "metadata": {},
   "outputs": [
    {
     "name": "stdout",
     "output_type": "stream",
     "text": [
      "This function is in school.\n",
      "This function is in student 1. \n"
     ]
    }
   ],
   "source": [
    "class School:\n",
    "    def func1(self):\n",
    "        print(\"This function is in school.\")\n",
    " \n",
    " \n",
    "class Student1(School):\n",
    "    def func2(self):\n",
    "        print(\"This function is in student 1. \")\n",
    " \n",
    " \n",
    "class Student2(School):\n",
    "    def func3(self):\n",
    "        print(\"This function is in student 2.\")\n",
    " \n",
    " \n",
    "class Student3(Student1, School):\n",
    "    def func4(self):\n",
    "        print(\"This function is in student 3.\")\n",
    " \n",
    " \n",
    "# Driver's code\n",
    "object = Student3()\n",
    "object.func1()\n",
    "object.func2()"
   ]
  },
  {
   "cell_type": "code",
   "execution_count": null,
   "id": "cf7b483a",
   "metadata": {},
   "outputs": [],
   "source": []
  },
  {
   "cell_type": "code",
   "execution_count": null,
   "id": "da149d5f",
   "metadata": {},
   "outputs": [],
   "source": []
  }
 ],
 "metadata": {
  "kernelspec": {
   "display_name": "Python 3 (ipykernel)",
   "language": "python",
   "name": "python3"
  },
  "language_info": {
   "codemirror_mode": {
    "name": "ipython",
    "version": 3
   },
   "file_extension": ".py",
   "mimetype": "text/x-python",
   "name": "python",
   "nbconvert_exporter": "python",
   "pygments_lexer": "ipython3",
   "version": "3.9.13"
  }
 },
 "nbformat": 4,
 "nbformat_minor": 5
}
